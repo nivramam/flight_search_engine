{
  "nbformat": 4,
  "nbformat_minor": 0,
  "metadata": {
    "colab": {
      "name": "testEverything_InvIndex.ipynb",
      "provenance": [],
      "collapsed_sections": [
        "gesMCGYGmw5x"
      ]
    },
    "kernelspec": {
      "name": "python3",
      "display_name": "Python 3"
    }
  },
  "cells": [
    {
      "cell_type": "code",
      "metadata": {
        "id": "t8q_xDscdl5-"
      },
      "source": [
        "import pandas as pd\n",
        "import numpy as np\n",
        "import nltk\n",
        "import requests\n",
        "from bs4 import BeautifulSoup\n",
        "import lxml.html as lh\n"
      ],
      "execution_count": null,
      "outputs": []
    },
    {
      "cell_type": "code",
      "metadata": {
        "colab": {
          "base_uri": "https://localhost:8080/"
        },
        "id": "CdV2nP2jFBzD",
        "outputId": "1ab016b8-e274-4cbc-e936-17475168669e"
      },
      "source": [
        "from google.colab import drive\n",
        "drive.mount(\"/content/gdrive\")\n"
      ],
      "execution_count": null,
      "outputs": [
        {
          "output_type": "stream",
          "name": "stdout",
          "text": [
            "Mounted at /content/gdrive\n"
          ]
        }
      ]
    },
    {
      "cell_type": "markdown",
      "metadata": {
        "id": "BSRnScoE8TsN"
      },
      "source": [
        "Importing the libraries"
      ]
    },
    {
      "cell_type": "code",
      "metadata": {
        "id": "cNRySPAIIbGZ"
      },
      "source": [
        "import re\n",
        "import json\n",
        "\n",
        "#helper to write contents to json file\n",
        "def write_to_text_file(filename, content):\n",
        "  with open(filename, \"a\") as f:\n",
        "    f.write(content)    \n",
        "  f.close() \n",
        "\n",
        "def construct_set_of_flights(filename, src_city, destn_city):\n",
        "  current_flight=\"\"\n",
        "  whole_str= \"\"\n",
        "  with open(filename) as f:\n",
        "      data = json.loads(\"[\" + f.read().replace(\"}\\n{\", \"},\\n{\") + \"]\")\n",
        "  f.close()\n",
        "  travel_city_target = \"{}-to-{}\".format(src_city,destn_city)\n",
        "  for x in range(0,len(data)):\n",
        "    if(data[x]['travel-cities']==travel_city_target):\n",
        "      # print(data[x])\n",
        "      whole_str = '{}-to-{}-flights'.format(src_city,destn_city)\n",
        "      whole_str+=\"\\n\"\n",
        "      for i in range(len(data[x]['airline'])):\n",
        "        # print(data[x])\n",
        "        # print(data[x]['airline'][i])\n",
        "        # print(\"______\")\n",
        "        current_flight = data[x]['airline'][i] + \",\" + data[x]['departure'][i] + \",\" + data[x]['arrival'][i] + \",\" + str(data[x]['duration'][i]) + \",\" + str(data[x]['fares'][i])\n",
        "        whole_str=whole_str + current_flight + \"\\n\"\n",
        "  return whole_str"
      ],
      "execution_count": null,
      "outputs": []
    },
    {
      "cell_type": "code",
      "metadata": {
        "id": "ngx6yHzx0W2Y",
        "colab": {
          "base_uri": "https://localhost:8080/"
        },
        "outputId": "b1047cff-621a-4572-92ba-87c41c4b969f"
      },
      "source": [
        "if __name__ == '__main__':\n",
        "  src_city = input()\n",
        "  dest_city = input()\n",
        "  set_of_flights = construct_set_of_flights(\"/content/gdrive/My Drive/Colab Notebooks/NEW_19OCt/flights1.json\", src_city, dest_city)\n",
        "  print(set_of_flights)\n",
        "  write_to_text_file(\"/content/gdrive/My Drive/Colab Notebooks/NEW_19OCt/data.txt\", set_of_flights)"
      ],
      "execution_count": null,
      "outputs": [
        {
          "output_type": "stream",
          "name": "stdout",
          "text": [
            "kolkata\n",
            "chennai\n",
            "kolkata-to-chennai-flights\n",
            "Air India,14:40,17:05,145,2966\n",
            "Spicejet,21:25,23:35,130,3337\n",
            "AirAsia India,13:30,16:05,155,3454\n",
            "AirAsia India,04:40,08:35,235,3454\n",
            "AirAsia India,16:30,20:30,240,3454\n",
            "Spicejet,15:55,18:25,150,3653\n",
            "Air India,19:00,08:00,780,4904\n",
            "IndiGo,20:00,22:30,150,4964\n",
            "IndiGo,05:30,08:00,150,4964\n",
            "IndiGo,11:15,13:45,150,4964\n",
            "\n"
          ]
        }
      ]
    },
    {
      "cell_type": "markdown",
      "metadata": {
        "id": "gesMCGYGmw5x"
      },
      "source": [
        "# ***FETCHING data from  Wikipedia***"
      ]
    },
    {
      "cell_type": "code",
      "metadata": {
        "colab": {
          "base_uri": "https://localhost:8080/",
          "height": 131
        },
        "id": "O10i-LpoDBDP",
        "outputId": "ed8ce7dc-f805-4262-8f27-42516a65f552"
      },
      "source": [
        "url = \"https://en.wikipedia.org/wiki/List_of_cities_in_India_by_population\"\n",
        "data = requests.get(url).text\n",
        "soup = BeautifulSoup(data, 'html.parser')\n",
        "tables = soup.find_all('table')\n",
        "#  Looking for the table with the classes 'wikitable' and 'sortable'\n",
        "table = soup.find('table', class_='wikitable sortable')\n",
        "df = pd.DataFrame(columns=['City'])\n",
        "\n",
        "# Collecting Ddata\n",
        "for row in table.tbody.find_all('tr'):    \n",
        "    # Find all data for each column\n",
        "    columns = row.find_all('td')\n",
        "    # print(columns)\n",
        "    if(columns != []):\n",
        "        rank = columns[0].text.strip()\n",
        "        city = columns[1].text.strip()\n",
        "        pop2011 = columns[2].contents[0].strip('&0.')\n",
        "        pop2001 = columns[3].contents[0].strip('&0.')\n",
        "        # stateOrUT = columns[4].contents[0].strip('&0.')\n",
        "        df = df.append({'City': city}, ignore_index=True)\n",
        "# df.head()\n",
        "cities_list = df['City']\n",
        "print(cities_list[])"
      ],
      "execution_count": null,
      "outputs": [
        {
          "output_type": "error",
          "ename": "SyntaxError",
          "evalue": "ignored",
          "traceback": [
            "\u001b[0;36m  File \u001b[0;32m\"<ipython-input-1-3aaaa17e4a0f>\"\u001b[0;36m, line \u001b[0;32m23\u001b[0m\n\u001b[0;31m    print(cities_list[])\u001b[0m\n\u001b[0m                      ^\u001b[0m\n\u001b[0;31mSyntaxError\u001b[0m\u001b[0;31m:\u001b[0m invalid syntax\n"
          ]
        }
      ]
    },
    {
      "cell_type": "code",
      "metadata": {
        "id": "sNtXacdNmwlk"
      },
      "source": [
        "ch=1\n",
        "# src_city = input()\n",
        "for i in range(len(cities_list)):\n",
        "  # print(i)\n",
        "  dest_city = cities_list[i]\n",
        "  base_url='https://en.wikipedia.org/wiki/'\n",
        "  base_url = base_url + \"{}\".format(dest_city.capitalize())\n",
        "\n",
        "  r = requests.get(base_url)\n",
        "\n",
        "  soup = BeautifulSoup(r.content, 'html.parser')\n",
        "  for i in soup.findAll('div', {'class': 'mw-body-content mw-content-ltr'}):\n",
        "      print(i.text)\n",
        "      write_to_text_file(\"/content/gdrive/My Drive/Colab Notebooks/IR_SearchEngine_Package/DATA/{}_wiki.txt\".format(dest_city.capitalize()), i.text)\n"
      ],
      "execution_count": null,
      "outputs": []
    }
  ]
}