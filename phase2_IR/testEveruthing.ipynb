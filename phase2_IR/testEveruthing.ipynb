{
  "nbformat": 4,
  "nbformat_minor": 0,
  "metadata": {
    "colab": {
      "name": "testEveruthing.ipynb",
      "provenance": [],
      "collapsed_sections": []
    },
    "kernelspec": {
      "name": "python3",
      "display_name": "Python 3"
    }
  },
  "cells": [
    {
      "cell_type": "code",
      "metadata": {
        "id": "hdE-moEzBwUE"
      },
      "source": [
        "import requests\n",
        "import lxml.html as lh\n",
        "import pandas as pd\n",
        "from bs4 import BeautifulSoup\n",
        "import csv\n",
        "from io import StringIO\n",
        "import json\n",
        "import re"
      ],
      "execution_count": null,
      "outputs": []
    },
    {
      "cell_type": "code",
      "metadata": {
        "colab": {
          "base_uri": "https://localhost:8080/"
        },
        "id": "bJNHDV0gSp2U",
        "outputId": "c757b388-48d9-4ca6-fe54-eba69b2190d4"
      },
      "source": [
        "from google.colab import drive\n",
        "drive.mount(\"/content/gdrive\")\n"
      ],
      "execution_count": null,
      "outputs": [
        {
          "output_type": "stream",
          "name": "stdout",
          "text": [
            "Mounted at /content/gdrive\n"
          ]
        }
      ]
    },
    {
      "cell_type": "code",
      "metadata": {
        "id": "dgVCg7YHBzuR",
        "colab": {
          "base_uri": "https://localhost:8080/"
        },
        "outputId": "97020e18-09f4-4b30-d49c-1ae7dfd38fa2"
      },
      "source": [
        "src=input()"
      ],
      "execution_count": null,
      "outputs": [
        {
          "name": "stdout",
          "output_type": "stream",
          "text": [
            "bangalore\n"
          ]
        }
      ]
    },
    {
      "cell_type": "code",
      "metadata": {
        "colab": {
          "base_uri": "https://localhost:8080/"
        },
        "id": "FxH6_yRjB1SB",
        "outputId": "b0ab2658-63d4-4e76-e9b0-bb706caf4db9"
      },
      "source": [
        "destn=input()"
      ],
      "execution_count": null,
      "outputs": [
        {
          "name": "stdout",
          "output_type": "stream",
          "text": [
            "chennai\n"
          ]
        }
      ]
    },
    {
      "cell_type": "code",
      "metadata": {
        "id": "VhLHfN0pBnjy"
      },
      "source": [
        "base_url='https://www.goibibo.com/flights/'\n",
        "base_url = base_url + \"/{}-to-{}-flights/\"\n",
        "url = base_url.format(src, destn)\n",
        "\n",
        "r = requests.get(url)\n",
        "\n",
        "soup = BeautifulSoup(r.content, 'html.parser')"
      ],
      "execution_count": null,
      "outputs": []
    },
    {
      "cell_type": "code",
      "metadata": {
        "id": "YC2h6q-cCduL",
        "colab": {
          "base_uri": "https://localhost:8080/"
        },
        "outputId": "706ad250-31f4-4c52-8ad6-a315ec144788"
      },
      "source": [
        "airline=[]\n",
        "for i in soup.findAll('span', {'class': 'font13 padL5 black'}):\n",
        "    airline.append(i.text)\n",
        "print(airline)\n",
        "departures=[]\n",
        "for i in soup.findAll('span', {'class': 'srp-card-uistyles__Time-sc-3flq99-15 hmttrq padT10 fb'}):\n",
        "    departures.append(i.text)\n",
        "print(departures)\n",
        "arrivals=[]\n",
        "for i in soup.findAll('span', {'class': 'srp-card-uistyles__Time-sc-3flq99-15 hmttrq fb padT10'}):\n",
        "    arrivals.append(i.text)\n",
        "print(arrivals)\n",
        "duration=[]\n",
        "for i in soup.findAll('span', {'class': 'srp-card-uistyles__DurTime-sc-3flq99-16 erDdYx fb padT10'}):\n",
        "    duration.append(i.text)\n",
        "print(duration)\n",
        "fares = []\n",
        "for i in soup.findAll('div', {'class': 'srp-card-uistyles__Price-sc-3flq99-17 fOIzpY alignItemsCenter dF fb lh1 padT5'}):\n",
        "    fares.append(i.text)\n",
        "print(fares)"
      ],
      "execution_count": null,
      "outputs": [
        {
          "output_type": "stream",
          "name": "stdout",
          "text": [
            "['AirAsia India', 'AirAsia India', 'AirAsia India', 'AirAsia India', 'IndiGo', 'IndiGo', 'IndiGo', 'IndiGo', 'IndiGo', 'IndiGo']\n",
            "['12:50', '15:35', '07:30', '16:25', '22:55', '10:55', '14:50', '15:45', '09:10', '18:15']\n",
            "['13:45', '16:30', '08:30', '17:25', '23:45', '12:00', '15:55', '17:00', '10:25', '19:15']\n",
            "['0h 55m', '0h 55m', '1h 00m', '1h 00m', '0h 50m', '1h 05m', '1h 05m', '1h 15m', '1h 15m', '1h 00m']\n",
            "['1,605', '1,605', '1,605', '1,605', '1,606', '1,606', '1,606', '1,606', '1,606', '1,715']\n"
          ]
        }
      ]
    },
    {
      "cell_type": "code",
      "metadata": {
        "id": "V0tdXcI4OJbg",
        "colab": {
          "base_uri": "https://localhost:8080/"
        },
        "outputId": "4bcad9f3-ba8c-4f14-d138-283a7e0689f8"
      },
      "source": [
        "import pandas as pd\n",
        "dkeys = ['duration']\n",
        "dvalues = [duration]\n",
        "# print(dvalues)\n",
        "durationDict =dict(zip(dkeys, dvalues))\n",
        "print(durationDict)\n",
        "df = pd.DataFrame(durationDict)\n",
        "df['duration']=  df['duration'].str.replace(\"05\", \"5\").str.replace(\"h\", '*60').str.replace(' ','+').str.replace('m','*1').apply(eval)\n",
        "newDuration = df.values.tolist()\n",
        "print(newDuration)"
      ],
      "execution_count": null,
      "outputs": [
        {
          "output_type": "stream",
          "name": "stdout",
          "text": [
            "{'duration': ['0h 55m', '0h 55m', '1h 00m', '1h 00m', '0h 50m', '1h 05m', '1h 05m', '1h 15m', '1h 15m', '1h 00m']}\n",
            "[[55], [55], [60], [60], [50], [65], [65], [75], [75], [60]]\n"
          ]
        }
      ]
    },
    {
      "cell_type": "code",
      "metadata": {
        "colab": {
          "base_uri": "https://localhost:8080/"
        },
        "id": "ByHsRZbynbxs",
        "outputId": "ad906531-5892-421e-ae97-d98ce4ed69db"
      },
      "source": [
        "fare_int_arr = []\n",
        "for i in fares:\n",
        "  i = re.sub(\",\",\"\",i)\n",
        "  i = int(i)\n",
        "  fare_int_arr.append(i)\n",
        "print(fare_int_arr)"
      ],
      "execution_count": null,
      "outputs": [
        {
          "output_type": "stream",
          "name": "stdout",
          "text": [
            "[1605, 1605, 1605, 1605, 1606, 1606, 1606, 1606, 1606, 1715]\n"
          ]
        }
      ]
    },
    {
      "cell_type": "code",
      "metadata": {
        "id": "M4da6nYdkcFA"
      },
      "source": [
        "def flatten_list(_2d_list):\n",
        "    flat_list = []\n",
        "    # Iterate through the outer list\n",
        "    for element in _2d_list:\n",
        "        if type(element) is list:\n",
        "            # If the element is of type list, iterate through the sublist\n",
        "            for item in element:\n",
        "                flat_list.append(item)\n",
        "        else:\n",
        "            flat_list.append(element)\n",
        "    return flat_list\n",
        "duration_final_list = flatten_list(newDuration)"
      ],
      "execution_count": null,
      "outputs": []
    },
    {
      "cell_type": "code",
      "metadata": {
        "id": "Aq43KKCeEFOt",
        "colab": {
          "base_uri": "https://localhost:8080/"
        },
        "outputId": "68326e14-dfed-4d99-d45a-bd2ef697bc8c"
      },
      "source": [
        "keys = ['travel-cities','airline','departure', 'arrival', 'duration', 'fares']\n",
        "travel_cities = src+\"-to-\"+destn\n",
        "values = [travel_cities, airline, departures, arrivals, duration_final_list, fare_int_arr]\n",
        "flightsDict = dict(zip(keys, values))\n",
        "flightsDict"
      ],
      "execution_count": null,
      "outputs": [
        {
          "output_type": "execute_result",
          "data": {
            "text/plain": [
              "{'airline': ['AirAsia India',\n",
              "  'AirAsia India',\n",
              "  'AirAsia India',\n",
              "  'AirAsia India',\n",
              "  'IndiGo',\n",
              "  'IndiGo',\n",
              "  'IndiGo',\n",
              "  'IndiGo',\n",
              "  'IndiGo',\n",
              "  'IndiGo'],\n",
              " 'arrival': ['13:45',\n",
              "  '16:30',\n",
              "  '08:30',\n",
              "  '17:25',\n",
              "  '23:45',\n",
              "  '12:00',\n",
              "  '15:55',\n",
              "  '17:00',\n",
              "  '10:25',\n",
              "  '19:15'],\n",
              " 'departure': ['12:50',\n",
              "  '15:35',\n",
              "  '07:30',\n",
              "  '16:25',\n",
              "  '22:55',\n",
              "  '10:55',\n",
              "  '14:50',\n",
              "  '15:45',\n",
              "  '09:10',\n",
              "  '18:15'],\n",
              " 'duration': [55, 55, 60, 60, 50, 65, 65, 75, 75, 60],\n",
              " 'fares': [1605, 1605, 1605, 1605, 1606, 1606, 1606, 1606, 1606, 1715],\n",
              " 'travel-cities': 'bangalore-to-chennai'}"
            ]
          },
          "metadata": {},
          "execution_count": 13
        }
      ]
    },
    {
      "cell_type": "markdown",
      "metadata": {
        "id": "eX8nAF7NiElh"
      },
      "source": [
        "Write the scraped content to a json file\n"
      ]
    },
    {
      "cell_type": "code",
      "metadata": {
        "id": "_5yd-S0mF2t5"
      },
      "source": [
        "file_name = \"/content/gdrive/My Drive/Colab Notebooks/NEW_19OCt/flights1.json\"\n",
        "with open(file_name.format(src, destn), 'a', encoding=\"utf-8\") as outfile:\n",
        "    json.dump(flightsDict, outfile)\n",
        "outfile.close()"
      ],
      "execution_count": null,
      "outputs": []
    },
    {
      "cell_type": "markdown",
      "metadata": {
        "id": "_1GMFaHyXz5j"
      },
      "source": [
        "***Cheap fares***\n"
      ]
    },
    {
      "cell_type": "code",
      "metadata": {
        "id": "2yrYQBj2XzOe",
        "colab": {
          "base_uri": "https://localhost:8080/"
        },
        "outputId": "05741fc3-fdb3-4fa2-875d-795690c7557b"
      },
      "source": [
        "doc = lh.fromstring(r.content)\n",
        "tr_elements = doc.xpath('//tr')\n",
        "col=[]\n",
        "i=0\n",
        "for t in tr_elements[0]:\n",
        "    i+=1\n",
        "    name=t.text_content()\n",
        "    print('%d:\"%s\"'%(i,name))\n",
        "    col.append((name,[]))"
      ],
      "execution_count": null,
      "outputs": [
        {
          "output_type": "stream",
          "name": "stdout",
          "text": [
            "1:\"Kolkata Chennai Cheap Flights\"\n",
            "2:\"Fare\"\n",
            "3:\"Date\"\n"
          ]
        }
      ]
    },
    {
      "cell_type": "code",
      "metadata": {
        "colab": {
          "base_uri": "https://localhost:8080/"
        },
        "id": "zGQSRimIAJBd",
        "outputId": "12745fe8-4b7e-473a-a69a-7ad3c64df172"
      },
      "source": [
        "for j in range(1,len(tr_elements)):\n",
        "    T=tr_elements[j]\n",
        "    if len(T)!=3:\n",
        "        break\n",
        "    i=0\n",
        "    for t in T.iterchildren():\n",
        "        data=t.text_content() \n",
        "        if i>0:\n",
        "            try:\n",
        "                data=int(data)\n",
        "            except:\n",
        "                pass\n",
        "        col[i][1].append(data)\n",
        "        i+=1\n",
        "\n",
        "cheap_flights_dict={title:column for (title,column) in col}\n",
        "# df=pd.DataFrame(Dict)\n",
        "# df.head(5)\n",
        "print(cheap_flights_dict)"
      ],
      "execution_count": null,
      "outputs": [
        {
          "output_type": "stream",
          "name": "stdout",
          "text": [
            "{'Kolkata Chennai Cheap Flights': ['Lowest Airfare Today', 'Cheapest Fare Within 30 Days', 'Cheapest Fare Within 90 Days', 'Cheapest Fare Within 365 Days'], 'Fare': ['Rs 6488', 'Rs 3454', 'Rs 2966', 'Rs 2966'], 'Date': ['10 Oct', '09 Nov', '28 Dec', '28 Dec']}\n"
          ]
        }
      ]
    },
    {
      "cell_type": "code",
      "metadata": {
        "id": "BiuTKYY8-PwA"
      },
      "source": [
        "file_name = \"/content/gdrive/My Drive/Colab Notebooks/NEW_19OCt/{}-to-{}-flights.json\".format(src, dest)\n",
        "with open(file_name.format(src, destn), 'a', encoding=\"utf-8\") as outfile:\n",
        "    json.dump(cheap_flights_dict, outfile)\n",
        "outfile.close()"
      ],
      "execution_count": null,
      "outputs": []
    }
  ]
}