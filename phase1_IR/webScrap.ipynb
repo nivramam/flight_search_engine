{
  "nbformat": 4,
  "nbformat_minor": 0,
  "metadata": {
    "colab": {
      "name": "webScrap.ipynb",
      "provenance": [],
      "collapsed_sections": []
    },
    "kernelspec": {
      "name": "python3",
      "display_name": "Python 3"
    },
    "language_info": {
      "name": "python"
    }
  },
  "cells": [
    {
      "cell_type": "markdown",
      "metadata": {
        "id": "ctNmuaNxDQGi"
      },
      "source": [
        "***Import statements***"
      ]
    },
    {
      "cell_type": "code",
      "metadata": {
        "id": "vFVDcuU1okTt"
      },
      "source": [
        "import requests\n",
        "import lxml.html as lh\n",
        "import pandas as pd\n",
        "from bs4 import BeautifulSoup\n",
        "import csv\n",
        "from io import StringIO"
      ],
      "execution_count": null,
      "outputs": []
    },
    {
      "cell_type": "code",
      "metadata": {
        "colab": {
          "base_uri": "https://localhost:8080/"
        },
        "id": "bJNHDV0gSp2U",
        "outputId": "b5d14ae5-76a7-472f-ec40-942048755322"
      },
      "source": [
        "from google.colab import drive\n",
        "drive.mount(\"/content/gdrive\")\n"
      ],
      "execution_count": null,
      "outputs": [
        {
          "output_type": "stream",
          "name": "stdout",
          "text": [
            "Drive already mounted at /content/gdrive; to attempt to forcibly remount, call drive.mount(\"/content/gdrive\", force_remount=True).\n"
          ]
        }
      ]
    },
    {
      "cell_type": "markdown",
      "metadata": {
        "id": "Cbmgym2KDWSl"
      },
      "source": [
        "***Input the query from user***"
      ]
    },
    {
      "cell_type": "code",
      "metadata": {
        "id": "V2dTh2WdotUg",
        "colab": {
          "base_uri": "https://localhost:8080/"
        },
        "outputId": "e4cfd5f9-a660-45df-fdf8-1bb2d908bd0f"
      },
      "source": [
        "test_str = input()\n",
        "\n",
        "print(\"The original string is : \" + test_str)\n",
        "punc = '''!()-[]{};:'\"\\,<>./?@#$%^&*_~'''\n",
        "\n",
        "for ele in test_str:\n",
        "    if ele in punc:\n",
        "        test_str = test_str.replace(ele, \"\")\n",
        "print(\"The string after punctuation filter : \" + test_str)\n"
      ],
      "execution_count": null,
      "outputs": [
        {
          "output_type": "stream",
          "name": "stdout",
          "text": [
            "need flights from bangalore to kolkata\n",
            "The original string is : need flights from bangalore to kolkata\n",
            "The string after punctuation filter : need flights from bangalore to kolkata\n"
          ]
        }
      ]
    },
    {
      "cell_type": "markdown",
      "metadata": {
        "id": "NhWF3hFhDpA4"
      },
      "source": [
        "***Extract source and destination from query***"
      ]
    },
    {
      "cell_type": "code",
      "metadata": {
        "colab": {
          "base_uri": "https://localhost:8080/"
        },
        "id": "1IjdFNqUo6Jy",
        "outputId": "ef0d635d-0040-4e29-f720-8f4505f435ee"
      },
      "source": [
        "test_str_arr = [x.strip() for x in test_str.strip('[]').split(' ') ]\n",
        "index = test_str_arr.index(\"to\")\n",
        "src = test_str_arr[index-1]\n",
        "destn = test_str_arr[index+1] \n",
        "\n",
        "# src = src.capitalize()\n",
        "# destn = destn.capitalize()\n",
        "print(src)\n",
        "print(destn)"
      ],
      "execution_count": null,
      "outputs": [
        {
          "output_type": "stream",
          "name": "stdout",
          "text": [
            "bangalore\n",
            "kolkata\n"
          ]
        }
      ]
    },
    {
      "cell_type": "markdown",
      "metadata": {
        "id": "J27m3BQtBPxT"
      },
      "source": [
        "***Main scrap - flight from and to the given cities - from GoIbibo***"
      ]
    },
    {
      "cell_type": "code",
      "metadata": {
        "colab": {
          "base_uri": "https://localhost:8080/"
        },
        "id": "v9TY46UZ1H6B",
        "outputId": "2c14ad33-ee95-45c7-ec19-e5c452940ac7"
      },
      "source": [
        "base_url='https://www.goibibo.com/flights/'\n",
        "base_url = base_url + \"/{}-to-{}-flights/\"\n",
        "url = base_url.format(src, destn)\n",
        "\n",
        "r = requests.get(url)\n",
        "\n",
        "soup = BeautifulSoup(r.content, 'html.parser')\n",
        "link = \"\"\n",
        "whole_str = ''\n",
        "for i in soup.findAll('div', {'class': 'srp-card-uistyles__CardLeft-sc-3flq99-5 hklZXY'}):\n",
        "    for data in i.find_all('span'):\n",
        "      whole_str+=(data.text)\n",
        "      \n",
        "      # print(whole_str)\n",
        "    link+=(whole_str+\"\\n\")\n",
        "    whole_str=''\n",
        "    # link.append(\"\\n\")\n",
        "# print(remove_tags(str(link)))\n",
        "# link = link.replace(\" \", \"\")\n",
        "print(link)"
      ],
      "execution_count": null,
      "outputs": [
        {
          "output_type": "stream",
          "name": "stdout",
          "text": [
            "Air IndiaBLRBengaluru, India18:45-HYD-HYD-13h 20mCCUKolkata, India08:05\n",
            "Air IndiaBLRBengaluru, India05:45 2h 35mCCUKolkata, India08:20\n",
            "IndiGoBLRBengaluru, India18:30-MAA-MAA-4h 50mCCUKolkata, India23:20\n",
            "IndiGoBLRBengaluru, India09:15-MAA-MAA-5h 30mCCUKolkata, India14:45\n",
            "IndiGoBLRBengaluru, India17:10-MAA-MAA-6h 10mCCUKolkata, India23:20\n",
            "IndiGoBLRBengaluru, India15:10-MAA-MAA-6h 20mCCUKolkata, India21:30\n",
            "IndiGoBLRBengaluru, India08:15-MAA-MAA-6h 30mCCUKolkata, India14:45\n",
            "IndiGoBLRBengaluru, India07:10-MAA-MAA-7h 35mCCUKolkata, India14:45\n",
            "IndiGoBLRBengaluru, India23:05-HYD-HYD-7h 40mCCUKolkata, India06:45\n",
            "IndiGoBLRBengaluru, India06:05-MAA-MAA-8h 40mCCUKolkata, India14:45\n",
            "\n"
          ]
        }
      ]
    },
    {
      "cell_type": "code",
      "metadata": {
        "colab": {
          "base_uri": "https://localhost:8080/"
        },
        "id": "KAWURJ18b4-j",
        "outputId": "404bbd75-219d-4df5-e265-e593e5565d35"
      },
      "source": [
        "link = StringIO(link)\n",
        "df = pd.read_csv(link, sep =\"\\n\")\n",
        "print(df)"
      ],
      "execution_count": null,
      "outputs": [
        {
          "output_type": "stream",
          "name": "stdout",
          "text": [
            "  Air IndiaBLRBengaluru, India18:45-HYD-HYD-13h 20mCCUKolkata, India08:05\n",
            "0  Air IndiaBLRBengaluru, India05:45 2h 35mCCUKol...                     \n",
            "1  IndiGoBLRBengaluru, India18:30-MAA-MAA-4h 50mC...                     \n",
            "2  IndiGoBLRBengaluru, India09:15-MAA-MAA-5h 30mC...                     \n",
            "3  IndiGoBLRBengaluru, India17:10-MAA-MAA-6h 10mC...                     \n",
            "4  IndiGoBLRBengaluru, India15:10-MAA-MAA-6h 20mC...                     \n",
            "5  IndiGoBLRBengaluru, India08:15-MAA-MAA-6h 30mC...                     \n",
            "6  IndiGoBLRBengaluru, India07:10-MAA-MAA-7h 35mC...                     \n",
            "7  IndiGoBLRBengaluru, India23:05-HYD-HYD-7h 40mC...                     \n",
            "8  IndiGoBLRBengaluru, India06:05-MAA-MAA-8h 40mC...                     \n"
          ]
        }
      ]
    },
    {
      "cell_type": "code",
      "metadata": {
        "id": "LQ89CwTUhKHI"
      },
      "source": [
        "file_name = \"/content/gdrive/My Drive/Colab Notebooks/IR_SearchEngine_Package/{}-to-{}-flights.csv\"\n",
        "# with open(file_name.format(src, destn), \"a\") as outfile:\n",
        "#     df.writ\n",
        "# outfile.close()\n",
        "\n",
        "df.to_csv(file_name.format(src, destn))"
      ],
      "execution_count": null,
      "outputs": []
    },
    {
      "cell_type": "markdown",
      "metadata": {
        "id": "_1GMFaHyXz5j"
      },
      "source": [
        "***Cheap fares***\n"
      ]
    },
    {
      "cell_type": "code",
      "metadata": {
        "id": "2yrYQBj2XzOe",
        "colab": {
          "base_uri": "https://localhost:8080/"
        },
        "outputId": "e96bc1b9-f635-4712-a0a2-af729bc91ad7"
      },
      "source": [
        "doc = lh.fromstring(r.content)\n",
        "tr_elements = doc.xpath('//tr')\n",
        "col=[]\n",
        "i=0\n",
        "for t in tr_elements[0]:\n",
        "    i+=1\n",
        "    name=t.text_content()\n",
        "    print('%d:\"%s\"'%(i,name))\n",
        "    col.append((name,[]))"
      ],
      "execution_count": null,
      "outputs": [
        {
          "output_type": "stream",
          "name": "stdout",
          "text": [
            "1:\"Bangalore Kolkata Cheap Flights\"\n",
            "2:\"Fare\"\n",
            "3:\"Date\"\n"
          ]
        }
      ]
    },
    {
      "cell_type": "code",
      "metadata": {
        "colab": {
          "base_uri": "https://localhost:8080/"
        },
        "id": "zGQSRimIAJBd",
        "outputId": "38d8cb06-e1c2-4394-8a71-05ad2ef85388"
      },
      "source": [
        "for j in range(1,len(tr_elements)):\n",
        "    T=tr_elements[j]\n",
        "    if len(T)!=3:\n",
        "        break\n",
        "    i=0\n",
        "    for t in T.iterchildren():\n",
        "        data=t.text_content() \n",
        "        if i>0:\n",
        "            try:\n",
        "                data=int(data)\n",
        "            except:\n",
        "                pass\n",
        "        col[i][1].append(data)\n",
        "        i+=1\n",
        "\n",
        "cheap_flights_dict={title:column for (title,column) in col}\n",
        "# df=pd.DataFrame(Dict)\n",
        "# df.head(5)\n",
        "print(cheap_flights_dict)"
      ],
      "execution_count": null,
      "outputs": [
        {
          "output_type": "stream",
          "name": "stdout",
          "text": [
            "{'Bangalore Kolkata Cheap Flights': ['Lowest Airfare Today', 'Cheapest Fare Within 30 Days', 'Cheapest Fare Within 90 Days', 'Cheapest Fare Within 365 Days'], 'Fare': ['Rs 5176', 'Rs 3981', 'Rs 3215', 'Rs 2977'], 'Date': ['01 Oct', '31 Oct', '14 Nov', '01 Feb']}\n"
          ]
        }
      ]
    },
    {
      "cell_type": "markdown",
      "metadata": {
        "id": "rFfICv-iBT4e"
      },
      "source": [
        "**Recommendation**"
      ]
    },
    {
      "cell_type": "code",
      "metadata": {
        "id": "uirdruEH3z6h"
      },
      "source": [
        "def remove_tags(html):\n",
        "    soup = BeautifulSoup(html, 'html.parser')\n",
        "    for data in soup(['span']):\n",
        "        # Remove tags\n",
        "        data.decompose()\n",
        "    # return data by retrieving the tag content\n",
        "    return ' '.join(soup.stripped_strings)"
      ],
      "execution_count": 211,
      "outputs": []
    },
    {
      "cell_type": "code",
      "metadata": {
        "id": "5MdIZZWGoO0W"
      },
      "source": [
        " # soup.find('div', {'class':'footer-wrapper_links'}).find_all('a')\n",
        "recommendations = []\n",
        "for i in soup.find('div', {'class':'common-stylesstyles__CommonDetails-sc-uferee-1 list-for-linksstyles__Details-sc-18mazeo-0 ikmQXy jjVksl'}):\n",
        "    # print(i)\n",
        "    recommendations.append(i)\n",
        "# print(link)"
      ],
      "execution_count": 212,
      "outputs": []
    },
    {
      "cell_type": "code",
      "metadata": {
        "id": "GjgmMvjC74WM",
        "colab": {
          "base_uri": "https://localhost:8080/",
          "height": 87
        },
        "outputId": "3a405673-2756-46d6-8597-8f47a4c5a5f3"
      },
      "source": [
        "recommendations = remove_tags(str(recommendations))\n",
        "recommendations"
      ],
      "execution_count": 213,
      "outputs": [
        {
          "output_type": "execute_result",
          "data": {
            "application/vnd.google.colaboratory.intrinsic+json": {
              "type": "string"
            },
            "text/plain": [
              "'[ Further Flights from Bangalore (BLR) , Bangalore to Surat Flights , Bangalore to Patna Flights , Bangalore to Chennai Flights , Bangalore to Delhi Flights , Bangalore to Hyderabad Flights , Bangalore to Goa Flights , Bangalore to Mumbai Flights , Bangalore to Aurangabad Flights , Bangalore to Pantnagar Flights , Bangalore to Satna Flights , Bangalore to Tiruchirappalli Flights , Bangalore to Ratnagiri Flights , Bangalore to Nasik Flights , Bangalore to Aizawl Flights , Bangalore to Jabalpur Flights ]'"
            ]
          },
          "metadata": {},
          "execution_count": 213
        }
      ]
    },
    {
      "cell_type": "code",
      "metadata": {
        "id": "ivHuBka1CYsl"
      },
      "source": [
        "towrite = list()\n",
        "towrite.append(recommendations)\n",
        "towrite.append(cheap_flights_dict)\n",
        "file_name = \"/content/gdrive/My Drive/Colab Notebooks/IR_SearchEngine_Package/{}-to-{}-further.csv\"\n",
        "with open(file_name.format(src, destn), \"a\") as outfile:\n",
        "    outfile.write(str(towrite))\n",
        "outfile.close()"
      ],
      "execution_count": null,
      "outputs": []
    },
    {
      "cell_type": "code",
      "metadata": {
        "colab": {
          "base_uri": "https://localhost:8080/"
        },
        "id": "m3MjUSF_C8gS",
        "outputId": "7d5ccb46-f147-44c1-e190-ca692fad6740"
      },
      "source": [
        "with open(file_name.format(src, destn), \"r\") as infile:\n",
        "    line = infile.readline()\n",
        "    print(line)"
      ],
      "execution_count": null,
      "outputs": [
        {
          "output_type": "stream",
          "name": "stdout",
          "text": [
            "['[ Further Flights from Kolkata (CCU) , Kolkata to Surat Flights , Kolkata to Patna Flights , Kolkata to Chennai Flights , Kolkata to Delhi Flights , Kolkata to Hyderabad Flights , Kolkata to Goa Flights , Kolkata to Bangalore Flights , Kolkata to Vadodara Flights , Kolkata to Tiruchirappalli Flights , Kolkata to Bhavnagar Flights , Kolkata to Port Blair Flights , Kolkata to Hubli Flights , Kolkata to Bikaner Flights , Kolkata to Puttaparthi Flights , Kolkata to Bellary Flights ]', {'Bangalore Kolkata Cheap Flights': ['Lowest Airfare Today', 'Cheapest Fare Within 30 Days', 'Cheapest Fare Within 90 Days', 'Cheapest Fare Within 365 Days'], 'Fare': ['Rs 5176', 'Rs 3981', 'Rs 3215', 'Rs 2977'], 'Date': ['01 Oct', '31 Oct', '14 Nov', '01 Feb']}]\n"
          ]
        }
      ]
    },
    {
      "cell_type": "markdown",
      "metadata": {
        "id": "IQmTgxt5CZYE"
      },
      "source": [
        "**JSON** - mostly no need (might delete as well)"
      ]
    },
    {
      "cell_type": "code",
      "metadata": {
        "id": "0OfssxWkKglu"
      },
      "source": [
        "# # /*merge all documents into a single file - datastore */\n",
        "# import json\n",
        "  \n",
        "# # Serializing json \n",
        "# json_object = json.dumps(cheap_flights_dict, indent = 4)\n",
        "# json_o2 = json.dumps(recommendations, indent = 4)\n",
        "# # json_o3 = json.dumps(link, indent = 4)\n",
        "\n",
        "# # Writing to sample.json\n",
        "# with open(\"sample.txt\", \"w\") as outfile:\n",
        "#     outfile.write(json_object)\n",
        "#     outfile.write(json_o2)\n",
        "#     # outfile.write(json_o3)\n",
        "# outfile.close()"
      ],
      "execution_count": null,
      "outputs": []
    },
    {
      "cell_type": "code",
      "metadata": {
        "id": "MFQQhPIlRmhh",
        "colab": {
          "base_uri": "https://localhost:8080/"
        },
        "outputId": "9d92b2b5-a2b0-4475-c2d0-f4b126ff52ca"
      },
      "source": [
        "# # Write to file\n",
        "# ofile = open(\"/content/gdrive/My Drive/Colab Notebooks/sample.json\",mode='a')\n",
        "# ofile.write(json_object)\n",
        "# # outfile.a"
      ],
      "execution_count": null,
      "outputs": [
        {
          "output_type": "execute_result",
          "data": {
            "text/plain": [
              "391"
            ]
          },
          "metadata": {},
          "execution_count": 187
        }
      ]
    }
  ]
}