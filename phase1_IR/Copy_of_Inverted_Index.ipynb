{
  "nbformat": 4,
  "nbformat_minor": 0,
  "metadata": {
    "colab": {
      "name": "Copy of Inverted_Index",
      "provenance": [],
      "collapsed_sections": []
    },
    "kernelspec": {
      "name": "python3",
      "display_name": "Python 3"
    }
  },
  "cells": [
    {
      "cell_type": "code",
      "metadata": {
        "colab": {
          "base_uri": "https://localhost:8080/"
        },
        "id": "CdV2nP2jFBzD",
        "outputId": "920a495f-0253-4cf2-e985-913cde31f7b6"
      },
      "source": [
        "from google.colab import drive\n",
        "drive.mount(\"/content/gdrive\")\n"
      ],
      "execution_count": null,
      "outputs": [
        {
          "output_type": "stream",
          "name": "stdout",
          "text": [
            "Mounted at /content/gdrive\n"
          ]
        }
      ]
    },
    {
      "cell_type": "markdown",
      "metadata": {
        "id": "3ZbJJPQ27xFn"
      },
      "source": [
        "Inverted Indexing"
      ]
    },
    {
      "cell_type": "code",
      "metadata": {
        "colab": {
          "base_uri": "https://localhost:8080/"
        },
        "id": "bfdhzErrdIKn",
        "outputId": "0e521f48-8adb-4e3e-f4bf-3f48d46fc4a3"
      },
      "source": [
        "!pip install  nltk"
      ],
      "execution_count": null,
      "outputs": [
        {
          "output_type": "stream",
          "name": "stdout",
          "text": [
            "Requirement already satisfied: nltk in /usr/local/lib/python3.7/dist-packages (3.2.5)\n",
            "Requirement already satisfied: six in /usr/local/lib/python3.7/dist-packages (from nltk) (1.15.0)\n"
          ]
        }
      ]
    },
    {
      "cell_type": "code",
      "metadata": {
        "colab": {
          "base_uri": "https://localhost:8080/"
        },
        "id": "UsCyhyVPdSQz",
        "outputId": "0c6f1f56-fb0a-4ec2-9df2-7c8d83504ec4"
      },
      "source": [
        "!pip install striprtf"
      ],
      "execution_count": null,
      "outputs": [
        {
          "output_type": "stream",
          "name": "stdout",
          "text": [
            "Collecting striprtf\n",
            "  Downloading striprtf-0.0.15-py3-none-any.whl (6.2 kB)\n",
            "Installing collected packages: striprtf\n",
            "Successfully installed striprtf-0.0.15\n"
          ]
        }
      ]
    },
    {
      "cell_type": "markdown",
      "metadata": {
        "id": "BSRnScoE8TsN"
      },
      "source": [
        "Importing the libraries"
      ]
    },
    {
      "cell_type": "code",
      "metadata": {
        "colab": {
          "base_uri": "https://localhost:8080/"
        },
        "id": "t8q_xDscdl5-",
        "outputId": "5ac62171-3053-4f9c-f1d8-4b3d696512b9"
      },
      "source": [
        "import pandas as pd\n",
        "import numpy as np\n",
        "import nltk\n",
        "nltk.download('punkt')\n",
        "nltk.download('stopwords')"
      ],
      "execution_count": null,
      "outputs": [
        {
          "output_type": "stream",
          "name": "stdout",
          "text": [
            "[nltk_data] Downloading package punkt to /root/nltk_data...\n",
            "[nltk_data]   Unzipping tokenizers/punkt.zip.\n",
            "[nltk_data] Downloading package stopwords to /root/nltk_data...\n",
            "[nltk_data]   Unzipping corpora/stopwords.zip.\n"
          ]
        },
        {
          "output_type": "execute_result",
          "data": {
            "text/plain": [
              "True"
            ]
          },
          "metadata": {},
          "execution_count": 5
        }
      ]
    },
    {
      "cell_type": "code",
      "metadata": {
        "id": "ISmGfsd3ddq5"
      },
      "source": [
        "from striprtf.striprtf import rtf_to_text\n",
        "from nltk.tokenize import word_tokenize\n",
        "from nltk.corpus import stopwords\n",
        "from nltk.tokenize import sent_tokenize"
      ],
      "execution_count": null,
      "outputs": []
    },
    {
      "cell_type": "code",
      "metadata": {
        "colab": {
          "base_uri": "https://localhost:8080/"
        },
        "id": "q8QqmnO41W_g",
        "outputId": "5daf6be6-5dad-479c-8cdb-1547ac55bd7d"
      },
      "source": [
        "test_str = input()\n",
        "test_str_arr = [x.strip() for x in test_str.strip('[]').split(' ') ]\n",
        "index = test_str_arr.index(\"to\")\n",
        "src = test_str_arr[index-1]\n",
        "destn = test_str_arr[index+1] "
      ],
      "execution_count": null,
      "outputs": [
        {
          "name": "stdout",
          "output_type": "stream",
          "text": [
            "coimbatore to chennai\n"
          ]
        }
      ]
    },
    {
      "cell_type": "code",
      "metadata": {
        "id": "aGW9UbVBFsGv",
        "colab": {
          "base_uri": "https://localhost:8080/"
        },
        "outputId": "84859e58-40b3-4b9c-b654-9c4e215c5282"
      },
      "source": [
        "def remove_punctuations(text):\n",
        "    text=text.lower()\n",
        "    punc = '''!()-[]{};:'\"\\,<>./?@#$%^&*_~'''\n",
        "    for i in text:\n",
        "        if i in punc:\n",
        "            text=text.replace(i,\"\")\n",
        "    return text\n",
        "\n",
        "documents=[]\n",
        "filename = \"/content/gdrive/My Drive/Colab Notebooks/IR_SearchEngine_Package/{}-to-{}-flights.csv\"\n",
        "infile = open(filename.format(src, destn))\n",
        "\n",
        "while(True):\n",
        "\tline = infile.readline()\n",
        "\tif not line:\n",
        "\t\tbreak\n",
        "\tdocuments.append(line)\n",
        "\n",
        "documents=documents[1:-2]\n",
        "\n",
        "for i in range(len(documents)):\n",
        "    documents[i] = remove_punctuations(documents[i])\n",
        "    text_tokens = word_tokenize(documents[i])\n",
        "    documents[i] = [word for word in text_tokens if not word in stopwords.words()]\n",
        " \n",
        "print(documents[0])\n",
        "\n",
        "total_tokens=[]\n",
        "for i in range(len(documents)):\n",
        "    for j in documents[i]:\n",
        "        if j not in total_tokens:\n",
        "            total_tokens.append(j)\n",
        "            \n",
        "print(\"The length of terms is\",len(total_tokens))\n",
        "print(\"Few among the terms include\",end=\" \")\n",
        "print(*total_tokens[-10:],sep=\", \")\n",
        "\n"
      ],
      "execution_count": null,
      "outputs": [
        {
          "output_type": "stream",
          "name": "stdout",
          "text": [
            "['0air', 'indiacjbcoimbatore', 'india1505', '1h', '10mmaachennai', 'india1615']\n",
            "The length of terms is 24\n",
            "Few among the terms include india0630, india0735, 4indigocjbcoimbatore, india1140, india1245, 5indigocjbcoimbatore, india2155, 6indigocjbcoimbatore, india0955, india1100\n"
          ]
        }
      ]
    },
    {
      "cell_type": "code",
      "metadata": {
        "colab": {
          "base_uri": "https://localhost:8080/"
        },
        "id": "lu62z432mGwo",
        "outputId": "466aa1d4-daa9-45f1-fdbe-29a0c7725960"
      },
      "source": [
        "import json\n",
        "termDict={}\n",
        "for i in total_tokens:\n",
        "    temp=[]\n",
        "    for j in range(len(documents)):\n",
        "        if i in documents[j]:\n",
        "            temp.append(j+1)\n",
        "    termDict[i]=temp\n",
        "    \n",
        "printing = dict(list(termDict.items())[0:10])\n",
        "inverted_index = json.dumps(printing)\n",
        "with open(\"/content/gdrive/My Drive/Colab Notebooks/IR_SearchEngine_Package/sample.json\", \"a\") as outfile:\n",
        "    outfile.write(inverted_index)\n",
        "print(\"The first 10 dictionary terms and their posing lists are\")\n",
        "for i in printing:\n",
        "    print(i,\":\",printing[i],end=\"\\n\\n\")"
      ],
      "execution_count": null,
      "outputs": [
        {
          "output_type": "stream",
          "name": "stdout",
          "text": [
            "The first 10 dictionary terms and their posing lists are\n",
            "0air : [1]\n",
            "\n",
            "indiacjbcoimbatore : [1]\n",
            "\n",
            "india1505 : [1]\n",
            "\n",
            "1h : [1, 2, 3, 4, 5, 6, 7]\n",
            "\n",
            "10mmaachennai : [1]\n",
            "\n",
            "india1615 : [1]\n",
            "\n",
            "1indigocjbcoimbatore : [2]\n",
            "\n",
            "india1600 : [2]\n",
            "\n",
            "05mmaachennai : [2, 3, 4, 5, 6, 7]\n",
            "\n",
            "india1705 : [2]\n",
            "\n"
          ]
        }
      ]
    }
  ]
}